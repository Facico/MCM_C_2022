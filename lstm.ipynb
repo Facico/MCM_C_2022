{
 "cells": [
  {
   "cell_type": "code",
   "execution_count": 12,
   "metadata": {},
   "outputs": [],
   "source": [
    "import pandas as pd\n",
    "import matplotlib.pyplot as plt\n",
    "import datetime\n",
    "import torch\n",
    "import torch.nn as nn\n",
    "import numpy as np\n",
    "from torch.utils.data import Dataset, DataLoader"
   ]
  },
  {
   "cell_type": "code",
   "execution_count": 23,
   "metadata": {},
   "outputs": [
    {
     "name": "stdout",
     "output_type": "stream",
     "text": [
      "Index(['Date', 'USD (PM)'], dtype='object') Index(['Date', 'Value'], dtype='object')\n"
     ]
    }
   ],
   "source": [
    "gold_data_path = '/data3/private/fanchenghao/shiyan/LBMA-GOLD.csv'\n",
    "bit_data_path = '/data3/private/fanchenghao/shiyan/BCHAIN-MKPRU.csv'\n",
    "\n",
    "gold_data = pd.read_csv(gold_data_path)\n",
    "bit_data = pd.read_csv(bit_data_path)\n",
    "print(gold_data.columns, bit_data.columns)"
   ]
  },
  {
   "cell_type": "code",
   "execution_count": 24,
   "metadata": {},
   "outputs": [
    {
     "name": "stdout",
     "output_type": "stream",
     "text": [
      "12/22/16\n",
      "12/29/16\n",
      "12/21/17\n",
      "12/28/17\n",
      "12/21/18\n",
      "12/28/18\n",
      "12/23/19\n",
      "12/30/19\n",
      "12/23/20\n",
      "12/30/20\n",
      "10 0\n",
      "1265 1826\n"
     ]
    },
    {
     "name": "stderr",
     "output_type": "stream",
     "text": [
      "/home/fanchenghao/miniconda3/envs/py37/lib/python3.7/site-packages/ipykernel_launcher.py:12: SettingWithCopyWarning: \n",
      "A value is trying to be set on a copy of a slice from a DataFrame\n",
      "\n",
      "See the caveats in the documentation: https://pandas.pydata.org/pandas-docs/stable/user_guide/indexing.html#returning-a-view-versus-a-copy\n",
      "  if sys.path[0] == '':\n"
     ]
    }
   ],
   "source": [
    "def get_date(data):\n",
    "    data_date = []\n",
    "    for i in range(len(data)):\n",
    "        mm, dd, yy = data['Date'][i].split('/')\n",
    "        data_date.append(datetime.date(int('20'+yy), int(mm), int(dd)))\n",
    "    return data_date\n",
    "\n",
    "null_gold, null_bit = 0, 0\n",
    "for i in range(len(gold_data)):\n",
    "    if(pd.isnull(gold_data['USD (PM)'][i])):\n",
    "        null_gold += 1\n",
    "        gold_data['USD (PM)'][i] = (gold_data['USD (PM)'][i-1] + gold_data['USD (PM)'][i+1]) / 2\n",
    "        print(gold_data['Date'][i-1])\n",
    "        #print(gold_data.iloc[i,:])\n",
    "\n",
    "for i in range(len(bit_data)):\n",
    "    if(pd.isnull(bit_data['Value'][i])):\n",
    "        null_bit += 1\n",
    "        bit_data['Value'][i] = (bit_data['Value'][i-1] + bit_data['Value'][i+1]) / 2\n",
    "print(null_gold, null_bit)\n",
    "\n",
    "gold_data.index = get_date(gold_data)\n",
    "bit_data.index = get_date(bit_data)\n",
    "#gold_data.to_csv('gold.csv')\n",
    "#bit_data.to_csv('bit.csv')\n",
    "print(len(gold_data), len(bit_data))\n",
    "\n",
    "fr=open('fan.in', 'w')\n",
    "fr.write(str(len(gold_data))+'\\n')\n",
    "gold_data_ss, bit_data_ss = [], []\n",
    "for i in range(len(gold_data)):\n",
    "    mm, dd, yy = gold_data['Date'][i].split('/')\n",
    "    if int(dd) < 10:\n",
    "        dd = '0' + dd\n",
    "    if int(mm) < 10:\n",
    "        mm = '0' + mm\n",
    "    ss = yy+mm+dd\n",
    "    gold_data_ss.append(ss)\n",
    "    fr.write(str(ss) + \" \" + str(gold_data['USD (PM)'][i]) + '\\n')\n",
    "\n",
    "fr.write(str(len(bit_data))+'\\n')\n",
    "for i in range(len(bit_data)):\n",
    "    mm, dd, yy = bit_data['Date'][i].split('/')\n",
    "    if int(dd) < 10:\n",
    "        dd = '0' + dd\n",
    "    if int(mm) < 10:\n",
    "        mm = '0' + mm\n",
    "    ss = yy+mm+dd\n",
    "    bit_data_ss.append(ss)\n",
    "    fr.write(ss + \" \" + str(bit_data['Value'][i]) + '\\n')"
   ]
  },
  {
   "cell_type": "code",
   "execution_count": 15,
   "metadata": {},
   "outputs": [],
   "source": [
    "def getData(df, column, date, train_end=-100, days_before=30, return_all=True, generate_index=False):\n",
    "    '''\n",
    "    读取原始数据，并生成训练样本\n",
    "    df             : 原始数据\n",
    "    column         : 要处理的列\n",
    "    train_end      : 训练集的终点\n",
    "    days_before    : 多少天来预测下一天\n",
    "    return_all     : 是否返回所有数据，默认 True\n",
    "    generate_index : 是否生成 index\n",
    "    '''\n",
    "    series = df[column].copy()\n",
    "    \n",
    "    # 划分数据\n",
    "    # 0 ~ train_end 的为训练数据，但实际上，最后的 n 天只是作为 label\n",
    "    # 而 train 中的 label，可用于 test\n",
    "    train_series, test_series = series[:train_end], series[train_end - days_before:]\n",
    "    \n",
    "    # 创建训练集\n",
    "    train_data = pd.DataFrame()\n",
    "        \n",
    "    # 通过移位，创建历史 days_before 天的数据\n",
    "    for i in range(days_before):\n",
    "        # 当前数据的 7 天前的数据，应该取 开始到 7 天前的数据； 昨天的数据，应该为开始到昨天的数据，如：\n",
    "        # [..., 1,2,3,4,5,6,7] 昨天的为 [..., 1,2,3,4,5,6]\n",
    "        # 比如从 [2:-7+2]，其长度为 len - 7\n",
    "        train_data['c%d' % i] = train_series.tolist()[i: -days_before + i]\n",
    "            \n",
    "    # 获取对应的 label\n",
    "    train_data['y'] = train_series.tolist()[days_before:]\n",
    "        \n",
    "    # 是否生成 index\n",
    "    if generate_index:\n",
    "        train_data.index = train_series.index[n:]\n",
    "                \n",
    "    if return_all:\n",
    "        return train_data, series, df.index.tolist()\n",
    "    \n",
    "    return train_data"
   ]
  },
  {
   "cell_type": "markdown",
   "metadata": {},
   "source": [
    "# LSTM"
   ]
  },
  {
   "cell_type": "code",
   "execution_count": 16,
   "metadata": {},
   "outputs": [],
   "source": [
    "class LSTM(nn.Module):\n",
    "    def __init__(self):\n",
    "        super(LSTM, self).__init__()\n",
    "        \n",
    "        self.lstm = nn.LSTM(\n",
    "            input_size=1,   # 输入尺寸为 1，表示一天的数据\n",
    "            hidden_size=64,\n",
    "            num_layers=2, \n",
    "            batch_first=True)\n",
    "        \n",
    "        self.out = nn.Sequential(\n",
    "            nn.Linear(64,1))\n",
    "        \n",
    "    def forward(self, x):\n",
    "        r_out, (h_n, h_c) = self.lstm(x, None)   # None 表示 hidden state 会用全 0 的 state\n",
    "        out = self.out(r_out[:, -1, :])          # 取最后一天作为输出\n",
    "        \n",
    "        return out\n",
    "\n",
    "class TrainSet(Dataset):\n",
    "    def __init__(self, data):\n",
    "        # 定义好 image 的路径\n",
    "        # data 取前多少天的数据， label 取最后一天的数据\n",
    "        self.data, self.label = data[:, :-1].float(), data[:, -1].float()\n",
    "\n",
    "    def __getitem__(self, index):\n",
    "        return self.data[index], self.label[index]\n",
    "\n",
    "    def __len__(self):\n",
    "        return len(self.data)"
   ]
  },
  {
   "cell_type": "code",
   "execution_count": 17,
   "metadata": {},
   "outputs": [],
   "source": [
    "def get_a_data(data, money, date, DAYS_BEFORE, TRAIN_END):\n",
    "    # 数据集建立\n",
    "    train_data, all_series, df_index = getData(data, money, data, days_before=DAYS_BEFORE, train_end=TRAIN_END)\n",
    "\n",
    "    # 获取所有原始数据\n",
    "    all_series = np.array(all_series.tolist())\n",
    "    # 绘制原始数据的图\n",
    "    #plt.figure(figsize=(12,8))\n",
    "    #plt.plot(df_index, all_series, label='real-data')\n",
    "\n",
    "    # 归一化，便与训练\n",
    "    train_data_numpy = np.array(train_data)\n",
    "    train_mean = np.mean(train_data_numpy)\n",
    "    train_std  = np.std(train_data_numpy)\n",
    "    train_data_numpy = (train_data_numpy - train_mean) / train_std\n",
    "    train_data_tensor = torch.Tensor(train_data_numpy)\n",
    "\n",
    "    # 创建 dataloader\n",
    "    train_set = TrainSet(train_data_tensor)\n",
    "    train_loader = DataLoader(train_set, batch_size=10, shuffle=True)\n",
    "    return train_loader"
   ]
  },
  {
   "cell_type": "code",
   "execution_count": 18,
   "metadata": {},
   "outputs": [],
   "source": [
    "torch.cuda.set_device(3)\n",
    "def train_a_data(data, money='USD (PM)', date='Date', save_name='gold', DAYS_BEFORE=7, TRAIN_END=-300, show=False, gong=True):\n",
    "    train_loader = get_a_data(data, money, date, DAYS_BEFORE=DAYS_BEFORE, TRAIN_END=TRAIN_END)\n",
    "    if gong == True:\n",
    "        rnn = torch.load('lstm_{}.pkl'.format(save_name))\n",
    "    else:\n",
    "        rnn = LSTM()\n",
    "\n",
    "    if torch.cuda.is_available():\n",
    "        rnn = rnn.cuda()\n",
    "\n",
    "    optimizer = torch.optim.Adam(rnn.parameters(), lr=LR)  # optimize all cnn parameters\n",
    "    loss_func = nn.MSELoss()\n",
    "\n",
    "    for step in range(EPOCH):\n",
    "        for tx, ty in train_loader:\n",
    "            \n",
    "            if torch.cuda.is_available():\n",
    "                tx = tx.cuda()\n",
    "                ty = ty.cuda()       \n",
    "            \n",
    "            output = rnn(torch.unsqueeze(tx, dim=2))\n",
    "            loss = loss_func(torch.squeeze(output), ty)\n",
    "            optimizer.zero_grad()  # clear gradients for this training step\n",
    "            loss.backward()  # back propagation, compute gradients\n",
    "            optimizer.step()\n",
    "        #print(step, loss.cpu())\n",
    "        if step % 10:\n",
    "            torch.save(rnn, 'lstm_{}.pkl'.format(save_name))\n",
    "    torch.save(rnn, 'lstm_{}.pkl'.format(save_name))\n",
    "\n",
    "\n"
   ]
  },
  {
   "cell_type": "code",
   "execution_count": 19,
   "metadata": {},
   "outputs": [],
   "source": [
    "def evaluate_one(testY, predicY, name):\n",
    "    testY = np.array(testY)\n",
    "    predicY = np.array(predicY)\n",
    "    MSE = 0\n",
    "    for i in range(len(testY)):\n",
    "        MSE += (testY[i] - predicY[i]) ** 2 / len(testY)\n",
    "    #MSE=np.sum(np.power((testY.reshape(-1,1) - predicY),2))/len(testY)\n",
    "    R2=1-MSE/np.var(testY)\n",
    "    print(\"{}  MSE:\".format(name),MSE)\n",
    "    print(\"{}  R^2:\".format(name), R2)\n",
    "\n",
    "def evaluate(train_ans, test_ans, real, DAYS_BEFORE):\n",
    "    real = real[DAYS_BEFORE:]\n",
    "    all_ans = train_ans + test_ans\n",
    "    evaluate_one(all_ans, real, 'all')\n",
    "    evaluate_one(train_ans, real[:len(train_ans)], 'train')\n",
    "    evaluate_one(test_ans, real[len(train_ans):], 'test')\n",
    "\n",
    "def get_a_test(data, money='USD (PM)', date='Date', save_name='gold', DAYS_BEFORE=7, TRAIN_END=-300, pred_len=1, show=False):\n",
    "    train_data, all_series, df_index = getData(data, money, data, days_before=DAYS_BEFORE, train_end=TRAIN_END)\n",
    "    generate_data_train = []\n",
    "    generate_data_test = []\n",
    "\n",
    "    # 测试数据开始的索引\n",
    "    test_start = len(all_series) + TRAIN_END\n",
    "\n",
    "    train_data_numpy = np.array(train_data)\n",
    "    train_mean = np.mean(train_data_numpy)\n",
    "    train_std  = np.std(train_data_numpy)\n",
    "    train_data_numpy = (train_data_numpy - train_mean) / train_std\n",
    "\n",
    "    # 对所有的数据进行相同的归一化\n",
    "    all_series = (all_series - train_mean) / train_std\n",
    "    all_series = torch.Tensor(all_series)\n",
    "\n",
    "    rnn = torch.load('lstm_{}.pkl'.format(save_name))\n",
    "    rnn.eval()\n",
    "\n",
    "    for i in range(DAYS_BEFORE, len(all_series)):\n",
    "        x = all_series[i - DAYS_BEFORE:i]\n",
    "        # 将 x 填充到 (bs, ts, is) 中的 timesteps\n",
    "        x = torch.unsqueeze(torch.unsqueeze(x, dim=0), dim=2)\n",
    "        \n",
    "        if torch.cuda.is_available():\n",
    "            x = x.cuda()\n",
    "\n",
    "        y = rnn(x)\n",
    "        \n",
    "        if i < test_start:\n",
    "            generate_data_train.append(torch.squeeze(y.cpu()).detach().numpy() * train_std + train_mean)\n",
    "        else:\n",
    "            generate_data_test.append(torch.squeeze(y.cpu()).detach().numpy() * train_std + train_mean)\n",
    "    print_pred = [generate_data_test[-1]]\n",
    "    nn = len(all_series)\n",
    "    if pred_len > 1:\n",
    "        x = all_series[nn - DAYS_BEFORE:nn]\n",
    "        for i in range(pred_len - 1):\n",
    "            xx = torch.unsqueeze(torch.unsqueeze(x, dim=0), dim=2)\n",
    "            if torch.cuda.is_available():\n",
    "                xx = xx.cuda()\n",
    "            y = rnn(xx)\n",
    "            print_pred.append(torch.squeeze(y.cpu()).detach().numpy() * train_std + train_mean)\n",
    "            x = x[1:]\n",
    "            #print(x, y.reshape(1,).cpu().detach())\n",
    "            x=torch.cat((x,y.reshape(1,).cpu().detach()))\n",
    "            #print(x)\n",
    "    if show == False:\n",
    "        #print(generate_data_test[-1],  (all_series[-1].numpy()* train_std + train_mean))\n",
    "        return print_pred, (generate_data_test[-1] - (all_series[-1].numpy()* train_std + train_mean)) ** 2\n",
    "        \n",
    "    evaluate(generate_data_train, generate_data_test, all_series.clone().numpy()* train_std + train_mean, DAYS_BEFORE=DAYS_BEFORE)\n",
    "    plt.figure(figsize=(12,8))\n",
    "    plt.plot(df_index[DAYS_BEFORE: TRAIN_END], generate_data_train, 'b', label='generate_train', )\n",
    "    plt.plot(df_index[TRAIN_END:], generate_data_test, 'k', label='generate_test')\n",
    "    plt.plot(df_index, all_series.clone().numpy()* train_std + train_mean, 'r', label='real_data')\n",
    "    #print_pred(generate_data_train, generate_data_test)\n",
    "    plt.legend()\n",
    "    \n",
    "    \n",
    "\n",
    "    plt.figure(figsize=(10,16))\n",
    "\n",
    "    \"\"\"plt.subplot(2,1,1)\n",
    "    plt.plot(df_index[100 + DAYS_BEFORE: 130 + DAYS_BEFORE], generate_data_train[100: 130], 'b', label='generate_train')\n",
    "    plt.plot(df_index[100 + DAYS_BEFORE: 130 + DAYS_BEFORE], (all_series.clone().numpy()* train_std + train_mean)[100 + DAYS_BEFORE: 130 + DAYS_BEFORE], 'r', label='real_data')\n",
    "    plt.legend()\"\"\"\n",
    "\n",
    "    #plt.subplot(2,1,2)\n",
    "    plt.plot(df_index[TRAIN_END:], generate_data_test[TRAIN_END:], 'k', label='generate_test')\n",
    "    plt.plot(df_index[TRAIN_END:], (all_series.clone().numpy()* train_std + train_mean)[TRAIN_END:], 'r', label='real_data')\n",
    "    plt.legend()\n",
    "    plt.show()\n"
   ]
  },
  {
   "cell_type": "code",
   "execution_count": 20,
   "metadata": {},
   "outputs": [
    {
     "data": {
      "text/plain": [
       "\"for i in range(5, 16):\\n    print(i)\\n    DAYS_BEFORE = i\\n    train_a_data(gold_data, money='USD (PM)', date='Date', save_name='gold', DAYS_BEFORE=DAYS_BEFORE, TRAIN_END=TRAIN_END)\\n    get_a_test(gold_data, money='USD (PM)', date='Date', save_name='gold', DAYS_BEFORE=DAYS_BEFORE, TRAIN_END=TRAIN_END)\""
      ]
     },
     "execution_count": 20,
     "metadata": {},
     "output_type": "execute_result"
    }
   ],
   "source": [
    "LR = 0.0001\n",
    "EPOCH = 100\n",
    "TRAIN_END=-200\n",
    "DAYS_BEFORE=10\n",
    "#train_a_data(gold_data[:40], money='USD (PM)', date='Date', save_name='gold', DAYS_BEFORE=DAYS_BEFORE, TRAIN_END=TRAIN_END)\n",
    "#get_a_test(gold_data[:40], money='USD (PM)', date='Date', save_name='gold', DAYS_BEFORE=DAYS_BEFORE, TRAIN_END=TRAIN_END)\n",
    "\n",
    "#train_a_data(bit_data[:], money='Value', date='Date', save_name='bit', DAYS_BEFORE=DAYS_BEFORE, TRAIN_END=TRAIN_END)\n",
    "#get_a_test(bit_data[:], money='Value', date='Date', save_name='bit', DAYS_BEFORE=DAYS_BEFORE, TRAIN_END=TRAIN_END, show=True)\n",
    "\n",
    "\"\"\"for i in range(5, 16):\n",
    "    print(i)\n",
    "    DAYS_BEFORE = i\n",
    "    train_a_data(gold_data, money='USD (PM)', date='Date', save_name='gold', DAYS_BEFORE=DAYS_BEFORE, TRAIN_END=TRAIN_END)\n",
    "    get_a_test(gold_data, money='USD (PM)', date='Date', save_name='gold', DAYS_BEFORE=DAYS_BEFORE, TRAIN_END=TRAIN_END)\"\"\""
   ]
  },
  {
   "cell_type": "code",
   "execution_count": 21,
   "metadata": {},
   "outputs": [
    {
     "name": "stderr",
     "output_type": "stream",
     "text": [
      "  0%|          | 0/1776 [00:00<?, ?it/s]/home/fanchenghao/miniconda3/envs/py37/lib/python3.7/site-packages/torch/serialization.py:402: UserWarning: Couldn't retrieve source code for container of type LSTM. It won't be checked for correctness upon loading.\n",
      "  \"type \" + obj.__name__ + \". It won't be checked \"\n",
      "  0%|          | 1/1776 [00:02<1:25:02,  2.87s/it]"
     ]
    },
    {
     "name": "stdout",
     "output_type": "stream",
     "text": [
      "41.398422192456955\n"
     ]
    },
    {
     "name": "stderr",
     "output_type": "stream",
     "text": [
      "  1%|          | 11/1776 [00:31<1:24:03,  2.86s/it]"
     ]
    },
    {
     "name": "stdout",
     "output_type": "stream",
     "text": [
      "283.3288247164176\n"
     ]
    },
    {
     "name": "stderr",
     "output_type": "stream",
     "text": [
      "  1%|          | 21/1776 [00:59<1:24:58,  2.91s/it]"
     ]
    },
    {
     "name": "stdout",
     "output_type": "stream",
     "text": [
      "285.7666935042341\n"
     ]
    },
    {
     "name": "stderr",
     "output_type": "stream",
     "text": [
      "  2%|▏         | 31/1776 [01:29<1:26:05,  2.96s/it]"
     ]
    },
    {
     "name": "stdout",
     "output_type": "stream",
     "text": [
      "219.37836333288485\n"
     ]
    },
    {
     "name": "stderr",
     "output_type": "stream",
     "text": [
      "  2%|▏         | 41/1776 [01:57<1:23:58,  2.90s/it]"
     ]
    },
    {
     "name": "stdout",
     "output_type": "stream",
     "text": [
      "233.43022203461427\n"
     ]
    },
    {
     "name": "stderr",
     "output_type": "stream",
     "text": [
      "  3%|▎         | 51/1776 [02:25<1:17:36,  2.70s/it]"
     ]
    },
    {
     "name": "stdout",
     "output_type": "stream",
     "text": [
      "194.75735858053392\n"
     ]
    },
    {
     "name": "stderr",
     "output_type": "stream",
     "text": [
      "  3%|▎         | 61/1776 [02:53<1:19:42,  2.79s/it]"
     ]
    },
    {
     "name": "stdout",
     "output_type": "stream",
     "text": [
      "420.07865078012145\n"
     ]
    },
    {
     "name": "stderr",
     "output_type": "stream",
     "text": [
      "  4%|▍         | 71/1776 [03:22<1:22:27,  2.90s/it]"
     ]
    },
    {
     "name": "stdout",
     "output_type": "stream",
     "text": [
      "1160.8941549171514\n"
     ]
    },
    {
     "name": "stderr",
     "output_type": "stream",
     "text": [
      "  5%|▍         | 81/1776 [03:49<1:21:44,  2.89s/it]"
     ]
    },
    {
     "name": "stdout",
     "output_type": "stream",
     "text": [
      "2306.461332887273\n"
     ]
    },
    {
     "name": "stderr",
     "output_type": "stream",
     "text": [
      "  5%|▌         | 91/1776 [04:18<1:18:14,  2.79s/it]"
     ]
    },
    {
     "name": "stdout",
     "output_type": "stream",
     "text": [
      "2104.871373767377\n"
     ]
    },
    {
     "name": "stderr",
     "output_type": "stream",
     "text": [
      "  6%|▌         | 101/1776 [04:45<1:17:51,  2.79s/it]"
     ]
    },
    {
     "name": "stdout",
     "output_type": "stream",
     "text": [
      "2010.302358661487\n"
     ]
    },
    {
     "name": "stderr",
     "output_type": "stream",
     "text": [
      "  6%|▋         | 111/1776 [05:13<1:20:16,  2.89s/it]"
     ]
    },
    {
     "name": "stdout",
     "output_type": "stream",
     "text": [
      "2139.02986953415\n"
     ]
    },
    {
     "name": "stderr",
     "output_type": "stream",
     "text": [
      "  7%|▋         | 121/1776 [05:42<1:17:23,  2.81s/it]"
     ]
    },
    {
     "name": "stdout",
     "output_type": "stream",
     "text": [
      "2237.5042553051503\n"
     ]
    },
    {
     "name": "stderr",
     "output_type": "stream",
     "text": [
      "  7%|▋         | 131/1776 [06:07<1:11:59,  2.63s/it]"
     ]
    },
    {
     "name": "stdout",
     "output_type": "stream",
     "text": [
      "2350.1790453364333\n"
     ]
    },
    {
     "name": "stderr",
     "output_type": "stream",
     "text": [
      "  8%|▊         | 141/1776 [06:35<1:15:48,  2.78s/it]"
     ]
    },
    {
     "name": "stdout",
     "output_type": "stream",
     "text": [
      "3474.692078154944\n"
     ]
    },
    {
     "name": "stderr",
     "output_type": "stream",
     "text": [
      "  9%|▊         | 151/1776 [07:04<1:17:57,  2.88s/it]"
     ]
    },
    {
     "name": "stdout",
     "output_type": "stream",
     "text": [
      "3782.9045807090756\n"
     ]
    },
    {
     "name": "stderr",
     "output_type": "stream",
     "text": [
      "  9%|▉         | 161/1776 [07:32<1:16:53,  2.86s/it]"
     ]
    },
    {
     "name": "stdout",
     "output_type": "stream",
     "text": [
      "3647.122295540304\n"
     ]
    },
    {
     "name": "stderr",
     "output_type": "stream",
     "text": [
      " 10%|▉         | 171/1776 [07:59<1:11:27,  2.67s/it]"
     ]
    },
    {
     "name": "stdout",
     "output_type": "stream",
     "text": [
      "3511.214022687053\n"
     ]
    },
    {
     "name": "stderr",
     "output_type": "stream",
     "text": [
      " 10%|█         | 181/1776 [08:27<1:13:47,  2.78s/it]"
     ]
    },
    {
     "name": "stdout",
     "output_type": "stream",
     "text": [
      "3586.5541193424237\n"
     ]
    },
    {
     "name": "stderr",
     "output_type": "stream",
     "text": [
      " 11%|█         | 191/1776 [08:56<1:15:20,  2.85s/it]"
     ]
    },
    {
     "name": "stdout",
     "output_type": "stream",
     "text": [
      "3504.78840696767\n"
     ]
    },
    {
     "name": "stderr",
     "output_type": "stream",
     "text": [
      " 11%|█▏        | 201/1776 [09:25<1:17:10,  2.94s/it]"
     ]
    },
    {
     "name": "stdout",
     "output_type": "stream",
     "text": [
      "3705.8373162980292\n"
     ]
    },
    {
     "name": "stderr",
     "output_type": "stream",
     "text": [
      " 12%|█▏        | 211/1776 [09:53<1:12:48,  2.79s/it]"
     ]
    },
    {
     "name": "stdout",
     "output_type": "stream",
     "text": [
      "5589.9410203871785\n"
     ]
    },
    {
     "name": "stderr",
     "output_type": "stream",
     "text": [
      " 12%|█▏        | 221/1776 [10:22<1:14:06,  2.86s/it]"
     ]
    },
    {
     "name": "stdout",
     "output_type": "stream",
     "text": [
      "6762.134003224305\n"
     ]
    },
    {
     "name": "stderr",
     "output_type": "stream",
     "text": [
      " 13%|█▎        | 231/1776 [10:51<1:14:42,  2.90s/it]"
     ]
    },
    {
     "name": "stdout",
     "output_type": "stream",
     "text": [
      "8467.599631630857\n"
     ]
    },
    {
     "name": "stderr",
     "output_type": "stream",
     "text": [
      " 14%|█▎        | 241/1776 [11:19<1:11:29,  2.79s/it]"
     ]
    },
    {
     "name": "stdout",
     "output_type": "stream",
     "text": [
      "8419.152689966842\n"
     ]
    },
    {
     "name": "stderr",
     "output_type": "stream",
     "text": [
      " 14%|█▍        | 251/1776 [11:48<1:13:29,  2.89s/it]"
     ]
    },
    {
     "name": "stdout",
     "output_type": "stream",
     "text": [
      "8474.002096458566\n"
     ]
    },
    {
     "name": "stderr",
     "output_type": "stream",
     "text": [
      " 15%|█▍        | 261/1776 [12:16<1:10:57,  2.81s/it]"
     ]
    },
    {
     "name": "stdout",
     "output_type": "stream",
     "text": [
      "10994.848746386979\n"
     ]
    },
    {
     "name": "stderr",
     "output_type": "stream",
     "text": [
      " 15%|█▌        | 271/1776 [12:44<1:11:04,  2.83s/it]"
     ]
    },
    {
     "name": "stdout",
     "output_type": "stream",
     "text": [
      "14474.354762931971\n"
     ]
    },
    {
     "name": "stderr",
     "output_type": "stream",
     "text": [
      " 16%|█▌        | 281/1776 [13:13<1:12:47,  2.92s/it]"
     ]
    },
    {
     "name": "stdout",
     "output_type": "stream",
     "text": [
      "14824.431939242217\n"
     ]
    },
    {
     "name": "stderr",
     "output_type": "stream",
     "text": [
      " 16%|█▋        | 291/1776 [13:42<1:11:47,  2.90s/it]"
     ]
    },
    {
     "name": "stdout",
     "output_type": "stream",
     "text": [
      "15599.691566926731\n"
     ]
    },
    {
     "name": "stderr",
     "output_type": "stream",
     "text": [
      " 17%|█▋        | 301/1776 [14:11<1:11:15,  2.90s/it]"
     ]
    },
    {
     "name": "stdout",
     "output_type": "stream",
     "text": [
      "15922.263802302763\n"
     ]
    },
    {
     "name": "stderr",
     "output_type": "stream",
     "text": [
      " 18%|█▊        | 311/1776 [14:39<1:09:11,  2.83s/it]"
     ]
    },
    {
     "name": "stdout",
     "output_type": "stream",
     "text": [
      "16977.25352420492\n"
     ]
    },
    {
     "name": "stderr",
     "output_type": "stream",
     "text": [
      " 18%|█▊        | 321/1776 [15:07<1:06:17,  2.73s/it]"
     ]
    },
    {
     "name": "stdout",
     "output_type": "stream",
     "text": [
      "25285.220977930545\n"
     ]
    },
    {
     "name": "stderr",
     "output_type": "stream",
     "text": [
      " 19%|█▊        | 331/1776 [15:35<1:07:15,  2.79s/it]"
     ]
    },
    {
     "name": "stdout",
     "output_type": "stream",
     "text": [
      "26181.44396696347\n"
     ]
    },
    {
     "name": "stderr",
     "output_type": "stream",
     "text": [
      " 19%|█▉        | 341/1776 [16:04<1:07:53,  2.84s/it]"
     ]
    },
    {
     "name": "stdout",
     "output_type": "stream",
     "text": [
      "26262.734739102307\n"
     ]
    },
    {
     "name": "stderr",
     "output_type": "stream",
     "text": [
      " 20%|█▉        | 351/1776 [16:33<1:08:07,  2.87s/it]"
     ]
    },
    {
     "name": "stdout",
     "output_type": "stream",
     "text": [
      "35142.970830535116\n"
     ]
    },
    {
     "name": "stderr",
     "output_type": "stream",
     "text": [
      " 20%|██        | 361/1776 [17:02<1:09:38,  2.95s/it]"
     ]
    },
    {
     "name": "stdout",
     "output_type": "stream",
     "text": [
      "36051.137667851326\n"
     ]
    },
    {
     "name": "stderr",
     "output_type": "stream",
     "text": [
      " 21%|██        | 371/1776 [17:31<1:07:42,  2.89s/it]"
     ]
    },
    {
     "name": "stdout",
     "output_type": "stream",
     "text": [
      "45826.145588355095\n"
     ]
    },
    {
     "name": "stderr",
     "output_type": "stream",
     "text": [
      " 21%|██▏       | 381/1776 [18:01<1:08:18,  2.94s/it]"
     ]
    },
    {
     "name": "stdout",
     "output_type": "stream",
     "text": [
      "52623.40515368716\n"
     ]
    },
    {
     "name": "stderr",
     "output_type": "stream",
     "text": [
      " 22%|██▏       | 391/1776 [18:30<1:07:55,  2.94s/it]"
     ]
    },
    {
     "name": "stdout",
     "output_type": "stream",
     "text": [
      "68768.63458923169\n"
     ]
    },
    {
     "name": "stderr",
     "output_type": "stream",
     "text": [
      " 23%|██▎       | 401/1776 [18:59<1:04:59,  2.84s/it]"
     ]
    },
    {
     "name": "stdout",
     "output_type": "stream",
     "text": [
      "76168.219849468\n"
     ]
    },
    {
     "name": "stderr",
     "output_type": "stream",
     "text": [
      " 23%|██▎       | 411/1776 [19:27<1:05:41,  2.89s/it]"
     ]
    },
    {
     "name": "stdout",
     "output_type": "stream",
     "text": [
      "154441.20362468628\n"
     ]
    },
    {
     "name": "stderr",
     "output_type": "stream",
     "text": [
      " 24%|██▎       | 421/1776 [19:55<1:04:56,  2.88s/it]"
     ]
    },
    {
     "name": "stdout",
     "output_type": "stream",
     "text": [
      "298500.3568580688\n"
     ]
    },
    {
     "name": "stderr",
     "output_type": "stream",
     "text": [
      " 24%|██▍       | 431/1776 [20:39<2:04:24,  5.55s/it]"
     ]
    },
    {
     "name": "stdout",
     "output_type": "stream",
     "text": [
      "360969.1697074031\n"
     ]
    },
    {
     "name": "stderr",
     "output_type": "stream",
     "text": [
      " 25%|██▍       | 441/1776 [21:08<1:06:30,  2.99s/it]"
     ]
    },
    {
     "name": "stdout",
     "output_type": "stream",
     "text": [
      "406651.1517623411\n"
     ]
    },
    {
     "name": "stderr",
     "output_type": "stream",
     "text": [
      " 25%|██▌       | 451/1776 [21:36<1:01:56,  2.81s/it]"
     ]
    },
    {
     "name": "stdout",
     "output_type": "stream",
     "text": [
      "466699.36943716544\n"
     ]
    },
    {
     "name": "stderr",
     "output_type": "stream",
     "text": [
      " 26%|██▌       | 461/1776 [22:04<58:27,  2.67s/it]  "
     ]
    },
    {
     "name": "stdout",
     "output_type": "stream",
     "text": [
      "469910.0479705205\n"
     ]
    },
    {
     "name": "stderr",
     "output_type": "stream",
     "text": [
      " 27%|██▋       | 471/1776 [22:32<1:02:21,  2.87s/it]"
     ]
    },
    {
     "name": "stdout",
     "output_type": "stream",
     "text": [
      "490635.9210453435\n"
     ]
    },
    {
     "name": "stderr",
     "output_type": "stream",
     "text": [
      " 27%|██▋       | 481/1776 [23:01<1:01:17,  2.84s/it]"
     ]
    },
    {
     "name": "stdout",
     "output_type": "stream",
     "text": [
      "541367.3397981321\n"
     ]
    },
    {
     "name": "stderr",
     "output_type": "stream",
     "text": [
      " 28%|██▊       | 491/1776 [23:30<1:03:02,  2.94s/it]"
     ]
    },
    {
     "name": "stdout",
     "output_type": "stream",
     "text": [
      "545820.9880277895\n"
     ]
    },
    {
     "name": "stderr",
     "output_type": "stream",
     "text": [
      " 28%|██▊       | 501/1776 [23:59<1:02:55,  2.96s/it]"
     ]
    },
    {
     "name": "stdout",
     "output_type": "stream",
     "text": [
      "543511.3075575161\n"
     ]
    },
    {
     "name": "stderr",
     "output_type": "stream",
     "text": [
      " 29%|██▉       | 511/1776 [24:28<58:08,  2.76s/it]  "
     ]
    },
    {
     "name": "stdout",
     "output_type": "stream",
     "text": [
      "540152.5160184469\n"
     ]
    },
    {
     "name": "stderr",
     "output_type": "stream",
     "text": [
      " 29%|██▉       | 521/1776 [24:57<58:14,  2.78s/it]  "
     ]
    },
    {
     "name": "stdout",
     "output_type": "stream",
     "text": [
      "540482.6913475872\n"
     ]
    },
    {
     "name": "stderr",
     "output_type": "stream",
     "text": [
      " 30%|██▉       | 531/1776 [25:26<1:01:23,  2.96s/it]"
     ]
    },
    {
     "name": "stdout",
     "output_type": "stream",
     "text": [
      "538154.3405053038\n"
     ]
    },
    {
     "name": "stderr",
     "output_type": "stream",
     "text": [
      " 30%|███       | 541/1776 [25:56<1:00:45,  2.95s/it]"
     ]
    },
    {
     "name": "stdout",
     "output_type": "stream",
     "text": [
      "541541.7050467093\n"
     ]
    },
    {
     "name": "stderr",
     "output_type": "stream",
     "text": [
      " 31%|███       | 551/1776 [26:25<1:00:18,  2.95s/it]"
     ]
    },
    {
     "name": "stdout",
     "output_type": "stream",
     "text": [
      "535453.3307816284\n"
     ]
    },
    {
     "name": "stderr",
     "output_type": "stream",
     "text": [
      " 32%|███▏      | 561/1776 [26:53<58:54,  2.91s/it]  "
     ]
    },
    {
     "name": "stdout",
     "output_type": "stream",
     "text": [
      "533038.0997042996\n"
     ]
    },
    {
     "name": "stderr",
     "output_type": "stream",
     "text": [
      " 32%|███▏      | 571/1776 [27:22<58:26,  2.91s/it]"
     ]
    },
    {
     "name": "stdout",
     "output_type": "stream",
     "text": [
      "532681.2280539249\n"
     ]
    },
    {
     "name": "stderr",
     "output_type": "stream",
     "text": [
      " 33%|███▎      | 581/1776 [27:51<59:02,  2.96s/it]"
     ]
    },
    {
     "name": "stdout",
     "output_type": "stream",
     "text": [
      "527919.4752177891\n"
     ]
    },
    {
     "name": "stderr",
     "output_type": "stream",
     "text": [
      " 33%|███▎      | 591/1776 [28:20<57:18,  2.90s/it]"
     ]
    },
    {
     "name": "stdout",
     "output_type": "stream",
     "text": [
      "523022.88964908407\n"
     ]
    },
    {
     "name": "stderr",
     "output_type": "stream",
     "text": [
      " 34%|███▍      | 601/1776 [28:48<55:30,  2.83s/it]"
     ]
    },
    {
     "name": "stdout",
     "output_type": "stream",
     "text": [
      "517025.8351853273\n"
     ]
    },
    {
     "name": "stderr",
     "output_type": "stream",
     "text": [
      " 34%|███▍      | 611/1776 [29:18<59:27,  3.06s/it]"
     ]
    },
    {
     "name": "stdout",
     "output_type": "stream",
     "text": [
      "510105.8322761926\n"
     ]
    },
    {
     "name": "stderr",
     "output_type": "stream",
     "text": [
      " 35%|███▍      | 621/1776 [29:47<54:02,  2.81s/it]"
     ]
    },
    {
     "name": "stdout",
     "output_type": "stream",
     "text": [
      "502947.3202845052\n"
     ]
    },
    {
     "name": "stderr",
     "output_type": "stream",
     "text": [
      " 36%|███▌      | 631/1776 [30:31<1:08:02,  3.57s/it]"
     ]
    },
    {
     "name": "stdout",
     "output_type": "stream",
     "text": [
      "500819.8649482125\n"
     ]
    },
    {
     "name": "stderr",
     "output_type": "stream",
     "text": [
      " 36%|███▌      | 641/1776 [31:00<54:57,  2.91s/it]  "
     ]
    },
    {
     "name": "stdout",
     "output_type": "stream",
     "text": [
      "495548.15491380746\n"
     ]
    },
    {
     "name": "stderr",
     "output_type": "stream",
     "text": [
      " 37%|███▋      | 651/1776 [31:30<53:42,  2.86s/it]"
     ]
    },
    {
     "name": "stdout",
     "output_type": "stream",
     "text": [
      "495298.08640528383\n"
     ]
    },
    {
     "name": "stderr",
     "output_type": "stream",
     "text": [
      " 37%|███▋      | 661/1776 [31:59<50:45,  2.73s/it]"
     ]
    },
    {
     "name": "stdout",
     "output_type": "stream",
     "text": [
      "488042.40052755753\n"
     ]
    },
    {
     "name": "stderr",
     "output_type": "stream",
     "text": [
      " 38%|███▊      | 671/1776 [32:27<50:50,  2.76s/it]"
     ]
    },
    {
     "name": "stdout",
     "output_type": "stream",
     "text": [
      "481140.0187006192\n"
     ]
    },
    {
     "name": "stderr",
     "output_type": "stream",
     "text": [
      " 38%|███▊      | 681/1776 [32:55<52:52,  2.90s/it]"
     ]
    },
    {
     "name": "stdout",
     "output_type": "stream",
     "text": [
      "475468.9104354986\n"
     ]
    },
    {
     "name": "stderr",
     "output_type": "stream",
     "text": [
      " 39%|███▉      | 691/1776 [33:23<50:25,  2.79s/it]"
     ]
    },
    {
     "name": "stdout",
     "output_type": "stream",
     "text": [
      "468992.8464763515\n"
     ]
    },
    {
     "name": "stderr",
     "output_type": "stream",
     "text": [
      " 39%|███▉      | 701/1776 [33:51<50:17,  2.81s/it]"
     ]
    },
    {
     "name": "stdout",
     "output_type": "stream",
     "text": [
      "462759.76446860627\n"
     ]
    },
    {
     "name": "stderr",
     "output_type": "stream",
     "text": [
      " 40%|████      | 711/1776 [34:18<50:12,  2.83s/it]"
     ]
    },
    {
     "name": "stdout",
     "output_type": "stream",
     "text": [
      "456546.9112529551\n"
     ]
    },
    {
     "name": "stderr",
     "output_type": "stream",
     "text": [
      " 41%|████      | 721/1776 [34:45<46:22,  2.64s/it]"
     ]
    },
    {
     "name": "stdout",
     "output_type": "stream",
     "text": [
      "450469.1797494605\n"
     ]
    },
    {
     "name": "stderr",
     "output_type": "stream",
     "text": [
      " 41%|████      | 731/1776 [35:14<50:16,  2.89s/it]"
     ]
    },
    {
     "name": "stdout",
     "output_type": "stream",
     "text": [
      "444452.52343047055\n"
     ]
    },
    {
     "name": "stderr",
     "output_type": "stream",
     "text": [
      " 42%|████▏     | 741/1776 [35:42<49:29,  2.87s/it]"
     ]
    },
    {
     "name": "stdout",
     "output_type": "stream",
     "text": [
      "438506.59147045197\n"
     ]
    },
    {
     "name": "stderr",
     "output_type": "stream",
     "text": [
      " 42%|████▏     | 751/1776 [36:09<47:08,  2.76s/it]"
     ]
    },
    {
     "name": "stdout",
     "output_type": "stream",
     "text": [
      "436043.4543917743\n"
     ]
    },
    {
     "name": "stderr",
     "output_type": "stream",
     "text": [
      " 43%|████▎     | 761/1776 [36:37<48:32,  2.87s/it]"
     ]
    },
    {
     "name": "stdout",
     "output_type": "stream",
     "text": [
      "432065.31502360717\n"
     ]
    },
    {
     "name": "stderr",
     "output_type": "stream",
     "text": [
      " 43%|████▎     | 771/1776 [37:04<45:32,  2.72s/it]"
     ]
    },
    {
     "name": "stdout",
     "output_type": "stream",
     "text": [
      "427590.1930477042\n"
     ]
    },
    {
     "name": "stderr",
     "output_type": "stream",
     "text": [
      " 44%|████▍     | 781/1776 [37:34<49:40,  3.00s/it]"
     ]
    },
    {
     "name": "stdout",
     "output_type": "stream",
     "text": [
      "423213.36395613395\n"
     ]
    },
    {
     "name": "stderr",
     "output_type": "stream",
     "text": [
      " 45%|████▍     | 791/1776 [38:01<46:34,  2.84s/it]"
     ]
    },
    {
     "name": "stdout",
     "output_type": "stream",
     "text": [
      "418652.4030296928\n"
     ]
    },
    {
     "name": "stderr",
     "output_type": "stream",
     "text": [
      " 45%|████▌     | 801/1776 [38:30<47:04,  2.90s/it]"
     ]
    },
    {
     "name": "stdout",
     "output_type": "stream",
     "text": [
      "413673.0220299912\n"
     ]
    },
    {
     "name": "stderr",
     "output_type": "stream",
     "text": [
      " 46%|████▌     | 811/1776 [38:58<45:10,  2.81s/it]"
     ]
    },
    {
     "name": "stdout",
     "output_type": "stream",
     "text": [
      "408740.5474411958\n"
     ]
    },
    {
     "name": "stderr",
     "output_type": "stream",
     "text": [
      " 46%|████▌     | 821/1776 [39:26<44:28,  2.79s/it]"
     ]
    },
    {
     "name": "stdout",
     "output_type": "stream",
     "text": [
      "403973.36944720126\n"
     ]
    },
    {
     "name": "stderr",
     "output_type": "stream",
     "text": [
      " 47%|████▋     | 831/1776 [39:52<42:45,  2.72s/it]"
     ]
    },
    {
     "name": "stdout",
     "output_type": "stream",
     "text": [
      "399185.4747315814\n"
     ]
    },
    {
     "name": "stderr",
     "output_type": "stream",
     "text": [
      " 47%|████▋     | 841/1776 [40:21<45:42,  2.93s/it]"
     ]
    },
    {
     "name": "stdout",
     "output_type": "stream",
     "text": [
      "394702.6017946356\n"
     ]
    },
    {
     "name": "stderr",
     "output_type": "stream",
     "text": [
      " 48%|████▊     | 851/1776 [40:50<43:52,  2.85s/it]"
     ]
    },
    {
     "name": "stdout",
     "output_type": "stream",
     "text": [
      "390867.7510859352\n"
     ]
    },
    {
     "name": "stderr",
     "output_type": "stream",
     "text": [
      " 48%|████▊     | 861/1776 [41:17<44:04,  2.89s/it]"
     ]
    },
    {
     "name": "stdout",
     "output_type": "stream",
     "text": [
      "386392.47225986887\n"
     ]
    },
    {
     "name": "stderr",
     "output_type": "stream",
     "text": [
      " 49%|████▉     | 871/1776 [41:45<41:43,  2.77s/it]"
     ]
    },
    {
     "name": "stdout",
     "output_type": "stream",
     "text": [
      "382017.67336223327\n"
     ]
    },
    {
     "name": "stderr",
     "output_type": "stream",
     "text": [
      " 50%|████▉     | 881/1776 [42:14<41:47,  2.80s/it]"
     ]
    },
    {
     "name": "stdout",
     "output_type": "stream",
     "text": [
      "377758.84991670575\n"
     ]
    },
    {
     "name": "stderr",
     "output_type": "stream",
     "text": [
      " 50%|█████     | 891/1776 [42:41<42:32,  2.88s/it]"
     ]
    },
    {
     "name": "stdout",
     "output_type": "stream",
     "text": [
      "375173.1764359957\n"
     ]
    },
    {
     "name": "stderr",
     "output_type": "stream",
     "text": [
      " 51%|█████     | 901/1776 [43:10<42:11,  2.89s/it]"
     ]
    },
    {
     "name": "stdout",
     "output_type": "stream",
     "text": [
      "371262.5041516428\n"
     ]
    },
    {
     "name": "stderr",
     "output_type": "stream",
     "text": [
      " 51%|█████▏    | 911/1776 [43:39<41:01,  2.85s/it]"
     ]
    },
    {
     "name": "stdout",
     "output_type": "stream",
     "text": [
      "367318.15635952266\n"
     ]
    },
    {
     "name": "stderr",
     "output_type": "stream",
     "text": [
      " 52%|█████▏    | 921/1776 [44:08<42:03,  2.95s/it]"
     ]
    },
    {
     "name": "stdout",
     "output_type": "stream",
     "text": [
      "364276.1808541528\n"
     ]
    },
    {
     "name": "stderr",
     "output_type": "stream",
     "text": [
      " 52%|█████▏    | 931/1776 [44:37<39:22,  2.80s/it]"
     ]
    },
    {
     "name": "stdout",
     "output_type": "stream",
     "text": [
      "364230.24817496317\n"
     ]
    },
    {
     "name": "stderr",
     "output_type": "stream",
     "text": [
      " 53%|█████▎    | 941/1776 [45:05<38:40,  2.78s/it]"
     ]
    },
    {
     "name": "stdout",
     "output_type": "stream",
     "text": [
      "362006.5390749263\n"
     ]
    },
    {
     "name": "stderr",
     "output_type": "stream",
     "text": [
      " 54%|█████▎    | 951/1776 [45:33<37:32,  2.73s/it]"
     ]
    },
    {
     "name": "stdout",
     "output_type": "stream",
     "text": [
      "359997.6582393067\n"
     ]
    },
    {
     "name": "stderr",
     "output_type": "stream",
     "text": [
      " 54%|█████▍    | 961/1776 [46:01<36:32,  2.69s/it]"
     ]
    },
    {
     "name": "stdout",
     "output_type": "stream",
     "text": [
      "359360.7172623939\n"
     ]
    },
    {
     "name": "stderr",
     "output_type": "stream",
     "text": [
      " 55%|█████▍    | 971/1776 [46:29<37:30,  2.80s/it]"
     ]
    },
    {
     "name": "stdout",
     "output_type": "stream",
     "text": [
      "365296.4824637149\n"
     ]
    },
    {
     "name": "stderr",
     "output_type": "stream",
     "text": [
      " 55%|█████▌    | 981/1776 [46:58<38:13,  2.88s/it]"
     ]
    },
    {
     "name": "stdout",
     "output_type": "stream",
     "text": [
      "369754.1325566459\n"
     ]
    },
    {
     "name": "stderr",
     "output_type": "stream",
     "text": [
      " 56%|█████▌    | 991/1776 [47:27<37:43,  2.88s/it]"
     ]
    },
    {
     "name": "stdout",
     "output_type": "stream",
     "text": [
      "378206.1824177058\n"
     ]
    },
    {
     "name": "stderr",
     "output_type": "stream",
     "text": [
      " 56%|█████▋    | 1001/1776 [47:54<34:33,  2.68s/it]"
     ]
    },
    {
     "name": "stdout",
     "output_type": "stream",
     "text": [
      "382982.34880688303\n"
     ]
    },
    {
     "name": "stderr",
     "output_type": "stream",
     "text": [
      " 57%|█████▋    | 1011/1776 [48:22<35:23,  2.78s/it]"
     ]
    },
    {
     "name": "stdout",
     "output_type": "stream",
     "text": [
      "382543.48973578075\n"
     ]
    },
    {
     "name": "stderr",
     "output_type": "stream",
     "text": [
      " 57%|█████▋    | 1021/1776 [48:51<36:17,  2.88s/it]"
     ]
    },
    {
     "name": "stdout",
     "output_type": "stream",
     "text": [
      "381524.5540494005\n"
     ]
    },
    {
     "name": "stderr",
     "output_type": "stream",
     "text": [
      " 58%|█████▊    | 1031/1776 [49:19<36:00,  2.90s/it]"
     ]
    },
    {
     "name": "stdout",
     "output_type": "stream",
     "text": [
      "379260.0066577455\n"
     ]
    },
    {
     "name": "stderr",
     "output_type": "stream",
     "text": [
      " 59%|█████▊    | 1041/1776 [49:47<34:56,  2.85s/it]"
     ]
    },
    {
     "name": "stdout",
     "output_type": "stream",
     "text": [
      "377286.452747561\n"
     ]
    },
    {
     "name": "stderr",
     "output_type": "stream",
     "text": [
      " 59%|█████▉    | 1051/1776 [50:14<30:55,  2.56s/it]"
     ]
    },
    {
     "name": "stdout",
     "output_type": "stream",
     "text": [
      "375364.0153960127\n"
     ]
    },
    {
     "name": "stderr",
     "output_type": "stream",
     "text": [
      " 60%|█████▉    | 1061/1776 [50:43<34:51,  2.93s/it]"
     ]
    },
    {
     "name": "stdout",
     "output_type": "stream",
     "text": [
      "376907.6634147606\n"
     ]
    },
    {
     "name": "stderr",
     "output_type": "stream",
     "text": [
      " 60%|██████    | 1071/1776 [51:12<34:55,  2.97s/it]"
     ]
    },
    {
     "name": "stdout",
     "output_type": "stream",
     "text": [
      "378565.3080402809\n"
     ]
    },
    {
     "name": "stderr",
     "output_type": "stream",
     "text": [
      " 61%|██████    | 1081/1776 [51:41<33:54,  2.93s/it]"
     ]
    },
    {
     "name": "stdout",
     "output_type": "stream",
     "text": [
      "375664.92286261875\n"
     ]
    },
    {
     "name": "stderr",
     "output_type": "stream",
     "text": [
      " 61%|██████▏   | 1091/1776 [52:10<31:44,  2.78s/it]"
     ]
    },
    {
     "name": "stdout",
     "output_type": "stream",
     "text": [
      "373542.46570326877\n"
     ]
    },
    {
     "name": "stderr",
     "output_type": "stream",
     "text": [
      " 62%|██████▏   | 1101/1776 [52:39<31:57,  2.84s/it]"
     ]
    },
    {
     "name": "stdout",
     "output_type": "stream",
     "text": [
      "377276.91801588295\n"
     ]
    },
    {
     "name": "stderr",
     "output_type": "stream",
     "text": [
      " 63%|██████▎   | 1111/1776 [53:08<32:29,  2.93s/it]"
     ]
    },
    {
     "name": "stdout",
     "output_type": "stream",
     "text": [
      "374635.7055085648\n"
     ]
    },
    {
     "name": "stderr",
     "output_type": "stream",
     "text": [
      " 63%|██████▎   | 1121/1776 [53:38<31:44,  2.91s/it]"
     ]
    },
    {
     "name": "stdout",
     "output_type": "stream",
     "text": [
      "374203.7449976766\n"
     ]
    },
    {
     "name": "stderr",
     "output_type": "stream",
     "text": [
      " 64%|██████▎   | 1131/1776 [54:06<30:39,  2.85s/it]"
     ]
    },
    {
     "name": "stdout",
     "output_type": "stream",
     "text": [
      "372067.3865523834\n"
     ]
    },
    {
     "name": "stderr",
     "output_type": "stream",
     "text": [
      " 64%|██████▍   | 1141/1776 [54:34<30:06,  2.84s/it]"
     ]
    },
    {
     "name": "stdout",
     "output_type": "stream",
     "text": [
      "368968.3424013908\n"
     ]
    },
    {
     "name": "stderr",
     "output_type": "stream",
     "text": [
      " 65%|██████▍   | 1151/1776 [55:02<29:09,  2.80s/it]"
     ]
    },
    {
     "name": "stdout",
     "output_type": "stream",
     "text": [
      "366388.8798840584\n"
     ]
    },
    {
     "name": "stderr",
     "output_type": "stream",
     "text": [
      " 65%|██████▌   | 1161/1776 [55:31<29:43,  2.90s/it]"
     ]
    },
    {
     "name": "stdout",
     "output_type": "stream",
     "text": [
      "363365.375964704\n"
     ]
    },
    {
     "name": "stderr",
     "output_type": "stream",
     "text": [
      " 66%|██████▌   | 1171/1776 [55:59<28:11,  2.80s/it]"
     ]
    },
    {
     "name": "stdout",
     "output_type": "stream",
     "text": [
      "361876.720581651\n"
     ]
    },
    {
     "name": "stderr",
     "output_type": "stream",
     "text": [
      " 66%|██████▋   | 1181/1776 [56:28<27:31,  2.78s/it]"
     ]
    },
    {
     "name": "stdout",
     "output_type": "stream",
     "text": [
      "359504.5676791238\n"
     ]
    },
    {
     "name": "stderr",
     "output_type": "stream",
     "text": [
      " 67%|██████▋   | 1191/1776 [57:12<29:59,  3.08s/it]  "
     ]
    },
    {
     "name": "stdout",
     "output_type": "stream",
     "text": [
      "358249.5157279045\n"
     ]
    },
    {
     "name": "stderr",
     "output_type": "stream",
     "text": [
      " 68%|██████▊   | 1201/1776 [57:41<27:51,  2.91s/it]"
     ]
    },
    {
     "name": "stdout",
     "output_type": "stream",
     "text": [
      "356772.5333824395\n"
     ]
    },
    {
     "name": "stderr",
     "output_type": "stream",
     "text": [
      " 68%|██████▊   | 1211/1776 [58:10<28:10,  2.99s/it]"
     ]
    },
    {
     "name": "stdout",
     "output_type": "stream",
     "text": [
      "355457.4670917253\n"
     ]
    },
    {
     "name": "stderr",
     "output_type": "stream",
     "text": [
      " 69%|██████▉   | 1221/1776 [58:40<27:35,  2.98s/it]"
     ]
    },
    {
     "name": "stdout",
     "output_type": "stream",
     "text": [
      "356128.99949306145\n"
     ]
    },
    {
     "name": "stderr",
     "output_type": "stream",
     "text": [
      " 69%|██████▉   | 1231/1776 [59:09<26:28,  2.92s/it]"
     ]
    },
    {
     "name": "stdout",
     "output_type": "stream",
     "text": [
      "368400.20071245584\n"
     ]
    },
    {
     "name": "stderr",
     "output_type": "stream",
     "text": [
      " 70%|██████▉   | 1241/1776 [59:38<26:03,  2.92s/it]"
     ]
    },
    {
     "name": "stdout",
     "output_type": "stream",
     "text": [
      "373114.39462207025\n"
     ]
    },
    {
     "name": "stderr",
     "output_type": "stream",
     "text": [
      " 70%|███████   | 1251/1776 [1:00:08<24:56,  2.85s/it]"
     ]
    },
    {
     "name": "stdout",
     "output_type": "stream",
     "text": [
      "373380.0751232235\n"
     ]
    },
    {
     "name": "stderr",
     "output_type": "stream",
     "text": [
      " 71%|███████   | 1261/1776 [1:00:37<25:17,  2.95s/it]"
     ]
    },
    {
     "name": "stdout",
     "output_type": "stream",
     "text": [
      "373503.51435673964\n"
     ]
    },
    {
     "name": "stderr",
     "output_type": "stream",
     "text": [
      " 72%|███████▏  | 1271/1776 [1:01:07<24:55,  2.96s/it]"
     ]
    },
    {
     "name": "stdout",
     "output_type": "stream",
     "text": [
      "371639.1110660907\n"
     ]
    },
    {
     "name": "stderr",
     "output_type": "stream",
     "text": [
      " 72%|███████▏  | 1281/1776 [1:01:36<24:02,  2.91s/it]"
     ]
    },
    {
     "name": "stdout",
     "output_type": "stream",
     "text": [
      "371636.0185677751\n"
     ]
    },
    {
     "name": "stderr",
     "output_type": "stream",
     "text": [
      " 73%|███████▎  | 1291/1776 [1:02:05<23:03,  2.85s/it]"
     ]
    },
    {
     "name": "stdout",
     "output_type": "stream",
     "text": [
      "371157.67998221604\n"
     ]
    },
    {
     "name": "stderr",
     "output_type": "stream",
     "text": [
      " 73%|███████▎  | 1301/1776 [1:02:33<22:34,  2.85s/it]"
     ]
    },
    {
     "name": "stdout",
     "output_type": "stream",
     "text": [
      "368842.0337161007\n"
     ]
    },
    {
     "name": "stderr",
     "output_type": "stream",
     "text": [
      " 74%|███████▍  | 1311/1776 [1:03:02<22:49,  2.94s/it]"
     ]
    },
    {
     "name": "stdout",
     "output_type": "stream",
     "text": [
      "367604.6094058774\n"
     ]
    },
    {
     "name": "stderr",
     "output_type": "stream",
     "text": [
      " 74%|███████▍  | 1321/1776 [1:03:31<22:29,  2.96s/it]"
     ]
    },
    {
     "name": "stdout",
     "output_type": "stream",
     "text": [
      "365445.41980804194\n"
     ]
    },
    {
     "name": "stderr",
     "output_type": "stream",
     "text": [
      " 75%|███████▍  | 1331/1776 [1:04:00<21:12,  2.86s/it]"
     ]
    },
    {
     "name": "stdout",
     "output_type": "stream",
     "text": [
      "362751.4870973493\n"
     ]
    },
    {
     "name": "stderr",
     "output_type": "stream",
     "text": [
      " 76%|███████▌  | 1341/1776 [1:04:29<20:54,  2.88s/it]"
     ]
    },
    {
     "name": "stdout",
     "output_type": "stream",
     "text": [
      "360366.59716920374\n"
     ]
    },
    {
     "name": "stderr",
     "output_type": "stream",
     "text": [
      " 76%|███████▌  | 1351/1776 [1:05:11<34:39,  4.89s/it]"
     ]
    },
    {
     "name": "stdout",
     "output_type": "stream",
     "text": [
      "357880.2012917415\n"
     ]
    },
    {
     "name": "stderr",
     "output_type": "stream",
     "text": [
      " 77%|███████▋  | 1361/1776 [1:05:39<19:48,  2.86s/it]"
     ]
    },
    {
     "name": "stdout",
     "output_type": "stream",
     "text": [
      "355296.04370878485\n"
     ]
    },
    {
     "name": "stderr",
     "output_type": "stream",
     "text": [
      " 77%|███████▋  | 1371/1776 [1:06:07<18:20,  2.72s/it]"
     ]
    },
    {
     "name": "stdout",
     "output_type": "stream",
     "text": [
      "356510.54676808603\n"
     ]
    },
    {
     "name": "stderr",
     "output_type": "stream",
     "text": [
      " 78%|███████▊  | 1381/1776 [1:06:35<18:38,  2.83s/it]"
     ]
    },
    {
     "name": "stdout",
     "output_type": "stream",
     "text": [
      "354599.18344421656\n"
     ]
    },
    {
     "name": "stderr",
     "output_type": "stream",
     "text": [
      " 78%|███████▊  | 1391/1776 [1:07:03<18:14,  2.84s/it]"
     ]
    },
    {
     "name": "stdout",
     "output_type": "stream",
     "text": [
      "352419.1567265664\n"
     ]
    },
    {
     "name": "stderr",
     "output_type": "stream",
     "text": [
      " 79%|███████▉  | 1401/1776 [1:07:31<17:40,  2.83s/it]"
     ]
    },
    {
     "name": "stdout",
     "output_type": "stream",
     "text": [
      "350416.2825355045\n"
     ]
    },
    {
     "name": "stderr",
     "output_type": "stream",
     "text": [
      " 79%|███████▉  | 1411/1776 [1:07:58<16:25,  2.70s/it]"
     ]
    },
    {
     "name": "stdout",
     "output_type": "stream",
     "text": [
      "353471.1221226612\n"
     ]
    },
    {
     "name": "stderr",
     "output_type": "stream",
     "text": [
      " 80%|████████  | 1421/1776 [1:08:26<16:48,  2.84s/it]"
     ]
    },
    {
     "name": "stdout",
     "output_type": "stream",
     "text": [
      "351692.7053951517\n"
     ]
    },
    {
     "name": "stderr",
     "output_type": "stream",
     "text": [
      " 81%|████████  | 1431/1776 [1:08:56<16:22,  2.85s/it]"
     ]
    },
    {
     "name": "stdout",
     "output_type": "stream",
     "text": [
      "349569.87234154466\n"
     ]
    },
    {
     "name": "stderr",
     "output_type": "stream",
     "text": [
      " 81%|████████  | 1441/1776 [1:09:25<16:03,  2.88s/it]"
     ]
    },
    {
     "name": "stdout",
     "output_type": "stream",
     "text": [
      "347357.3103220006\n"
     ]
    },
    {
     "name": "stderr",
     "output_type": "stream",
     "text": [
      " 82%|████████▏ | 1451/1776 [1:09:54<15:44,  2.91s/it]"
     ]
    },
    {
     "name": "stdout",
     "output_type": "stream",
     "text": [
      "346381.0643079614\n"
     ]
    },
    {
     "name": "stderr",
     "output_type": "stream",
     "text": [
      " 82%|████████▏ | 1461/1776 [1:10:23<15:35,  2.97s/it]"
     ]
    },
    {
     "name": "stdout",
     "output_type": "stream",
     "text": [
      "345799.94952987024\n"
     ]
    },
    {
     "name": "stderr",
     "output_type": "stream",
     "text": [
      " 83%|████████▎ | 1471/1776 [1:10:50<13:08,  2.59s/it]"
     ]
    },
    {
     "name": "stdout",
     "output_type": "stream",
     "text": [
      "347715.6363810316\n"
     ]
    },
    {
     "name": "stderr",
     "output_type": "stream",
     "text": [
      " 83%|████████▎ | 1481/1776 [1:11:17<14:01,  2.85s/it]"
     ]
    },
    {
     "name": "stdout",
     "output_type": "stream",
     "text": [
      "348668.42520404153\n"
     ]
    },
    {
     "name": "stderr",
     "output_type": "stream",
     "text": [
      " 84%|████████▍ | 1491/1776 [1:11:46<13:37,  2.87s/it]"
     ]
    },
    {
     "name": "stdout",
     "output_type": "stream",
     "text": [
      "353811.7685258118\n"
     ]
    },
    {
     "name": "stderr",
     "output_type": "stream",
     "text": [
      " 85%|████████▍ | 1501/1776 [1:12:16<13:35,  2.97s/it]"
     ]
    },
    {
     "name": "stdout",
     "output_type": "stream",
     "text": [
      "354216.63330102275\n"
     ]
    },
    {
     "name": "stderr",
     "output_type": "stream",
     "text": [
      " 85%|████████▌ | 1511/1776 [1:12:45<12:35,  2.85s/it]"
     ]
    },
    {
     "name": "stdout",
     "output_type": "stream",
     "text": [
      "377456.4632904225\n"
     ]
    },
    {
     "name": "stderr",
     "output_type": "stream",
     "text": [
      " 86%|████████▌ | 1521/1776 [1:13:14<12:37,  2.97s/it]"
     ]
    },
    {
     "name": "stdout",
     "output_type": "stream",
     "text": [
      "395493.4715238314\n"
     ]
    },
    {
     "name": "stderr",
     "output_type": "stream",
     "text": [
      " 86%|████████▌ | 1531/1776 [1:13:42<11:37,  2.85s/it]"
     ]
    },
    {
     "name": "stdout",
     "output_type": "stream",
     "text": [
      "431528.89609630744\n"
     ]
    },
    {
     "name": "stderr",
     "output_type": "stream",
     "text": [
      " 87%|████████▋ | 1541/1776 [1:14:10<10:39,  2.72s/it]"
     ]
    },
    {
     "name": "stdout",
     "output_type": "stream",
     "text": [
      "486946.4590092945\n"
     ]
    },
    {
     "name": "stderr",
     "output_type": "stream",
     "text": [
      " 87%|████████▋ | 1551/1776 [1:14:39<10:55,  2.91s/it]"
     ]
    },
    {
     "name": "stdout",
     "output_type": "stream",
     "text": [
      "577102.1846187975\n"
     ]
    },
    {
     "name": "stderr",
     "output_type": "stream",
     "text": [
      " 88%|████████▊ | 1561/1776 [1:15:07<09:40,  2.70s/it]"
     ]
    },
    {
     "name": "stdout",
     "output_type": "stream",
     "text": [
      "596349.2071699089\n"
     ]
    },
    {
     "name": "stderr",
     "output_type": "stream",
     "text": [
      " 88%|████████▊ | 1571/1776 [1:15:35<09:55,  2.90s/it]"
     ]
    },
    {
     "name": "stdout",
     "output_type": "stream",
     "text": [
      "767455.664983182\n"
     ]
    },
    {
     "name": "stderr",
     "output_type": "stream",
     "text": [
      " 89%|████████▉ | 1581/1776 [1:16:04<09:08,  2.81s/it]"
     ]
    },
    {
     "name": "stdout",
     "output_type": "stream",
     "text": [
      "907815.0947028433\n"
     ]
    },
    {
     "name": "stderr",
     "output_type": "stream",
     "text": [
      " 90%|████████▉ | 1591/1776 [1:16:32<08:32,  2.77s/it]"
     ]
    },
    {
     "name": "stdout",
     "output_type": "stream",
     "text": [
      "964261.8121592931\n"
     ]
    },
    {
     "name": "stderr",
     "output_type": "stream",
     "text": [
      " 90%|█████████ | 1601/1776 [1:17:01<08:21,  2.86s/it]"
     ]
    },
    {
     "name": "stdout",
     "output_type": "stream",
     "text": [
      "1147325.7764555605\n"
     ]
    },
    {
     "name": "stderr",
     "output_type": "stream",
     "text": [
      " 91%|█████████ | 1611/1776 [1:17:28<07:24,  2.69s/it]"
     ]
    },
    {
     "name": "stdout",
     "output_type": "stream",
     "text": [
      "1174716.3587959048\n"
     ]
    },
    {
     "name": "stderr",
     "output_type": "stream",
     "text": [
      " 91%|█████████▏| 1621/1776 [1:17:56<07:22,  2.85s/it]"
     ]
    },
    {
     "name": "stdout",
     "output_type": "stream",
     "text": [
      "1203463.0271689282\n"
     ]
    },
    {
     "name": "stderr",
     "output_type": "stream",
     "text": [
      " 92%|█████████▏| 1631/1776 [1:18:25<06:50,  2.83s/it]"
     ]
    },
    {
     "name": "stdout",
     "output_type": "stream",
     "text": [
      "1256262.596115487\n"
     ]
    },
    {
     "name": "stderr",
     "output_type": "stream",
     "text": [
      " 92%|█████████▏| 1641/1776 [1:18:53<06:19,  2.81s/it]"
     ]
    },
    {
     "name": "stdout",
     "output_type": "stream",
     "text": [
      "1310448.5001365326\n"
     ]
    },
    {
     "name": "stderr",
     "output_type": "stream",
     "text": [
      " 93%|█████████▎| 1651/1776 [1:19:22<06:07,  2.94s/it]"
     ]
    },
    {
     "name": "stdout",
     "output_type": "stream",
     "text": [
      "1333775.5313786238\n"
     ]
    },
    {
     "name": "stderr",
     "output_type": "stream",
     "text": [
      " 94%|█████████▎| 1661/1776 [1:19:51<05:35,  2.92s/it]"
     ]
    },
    {
     "name": "stdout",
     "output_type": "stream",
     "text": [
      "1464928.62982816\n"
     ]
    },
    {
     "name": "stderr",
     "output_type": "stream",
     "text": [
      " 94%|█████████▍| 1671/1776 [1:20:20<04:59,  2.85s/it]"
     ]
    },
    {
     "name": "stdout",
     "output_type": "stream",
     "text": [
      "1595524.6447911756\n"
     ]
    },
    {
     "name": "stderr",
     "output_type": "stream",
     "text": [
      " 95%|█████████▍| 1681/1776 [1:20:48<04:29,  2.84s/it]"
     ]
    },
    {
     "name": "stdout",
     "output_type": "stream",
     "text": [
      "1602948.7834869013\n"
     ]
    },
    {
     "name": "stderr",
     "output_type": "stream",
     "text": [
      " 95%|█████████▌| 1691/1776 [1:21:18<04:07,  2.91s/it]"
     ]
    },
    {
     "name": "stdout",
     "output_type": "stream",
     "text": [
      "1632412.0497322467\n"
     ]
    },
    {
     "name": "stderr",
     "output_type": "stream",
     "text": [
      " 96%|█████████▌| 1701/1776 [1:21:46<03:37,  2.90s/it]"
     ]
    },
    {
     "name": "stdout",
     "output_type": "stream",
     "text": [
      "1676832.3742672491\n"
     ]
    },
    {
     "name": "stderr",
     "output_type": "stream",
     "text": [
      " 96%|█████████▋| 1711/1776 [1:22:14<02:58,  2.75s/it]"
     ]
    },
    {
     "name": "stdout",
     "output_type": "stream",
     "text": [
      "1671863.713666053\n"
     ]
    },
    {
     "name": "stderr",
     "output_type": "stream",
     "text": [
      " 97%|█████████▋| 1721/1776 [1:22:43<02:36,  2.84s/it]"
     ]
    },
    {
     "name": "stdout",
     "output_type": "stream",
     "text": [
      "1671424.9633936046\n"
     ]
    },
    {
     "name": "stderr",
     "output_type": "stream",
     "text": [
      " 97%|█████████▋| 1731/1776 [1:23:12<02:11,  2.91s/it]"
     ]
    },
    {
     "name": "stdout",
     "output_type": "stream",
     "text": [
      "1691523.1662029286\n"
     ]
    },
    {
     "name": "stderr",
     "output_type": "stream",
     "text": [
      " 98%|█████████▊| 1741/1776 [1:23:42<01:45,  3.02s/it]"
     ]
    },
    {
     "name": "stdout",
     "output_type": "stream",
     "text": [
      "1749424.4602738959\n"
     ]
    },
    {
     "name": "stderr",
     "output_type": "stream",
     "text": [
      " 99%|█████████▊| 1751/1776 [1:24:10<01:11,  2.87s/it]"
     ]
    },
    {
     "name": "stdout",
     "output_type": "stream",
     "text": [
      "1766154.4830323248\n"
     ]
    },
    {
     "name": "stderr",
     "output_type": "stream",
     "text": [
      " 99%|█████████▉| 1761/1776 [1:24:39<00:43,  2.87s/it]"
     ]
    },
    {
     "name": "stdout",
     "output_type": "stream",
     "text": [
      "1778075.5189885858\n"
     ]
    },
    {
     "name": "stderr",
     "output_type": "stream",
     "text": [
      "100%|█████████▉| 1771/1776 [1:25:08<00:14,  2.88s/it]"
     ]
    },
    {
     "name": "stdout",
     "output_type": "stream",
     "text": [
      "1775172.8496220687\n"
     ]
    },
    {
     "name": "stderr",
     "output_type": "stream",
     "text": [
      "100%|██████████| 1776/1776 [1:25:22<00:00,  2.88s/it]\n"
     ]
    }
   ],
   "source": [
    "from tqdm import tqdm\n",
    "from random import randint, uniform\n",
    "import json\n",
    "LR = 0.0001\n",
    "EPOCH = 100\n",
    "TRAIN_END=-1\n",
    "DAYS_BEFORE=10\n",
    "n = len(bit_data)\n",
    "j = 0\n",
    "ms_loss = 0\n",
    "tot = 0\n",
    "qu_err = 0\n",
    "def fade(pred, real):\n",
    "    if abs(pred - real) > 5:\n",
    "        t = randint(1,5)\n",
    "        if(t <= 2):\n",
    "            return 'fade', real + uniform(-5, 5)\n",
    "    return 'real', pred\n",
    "\n",
    "out_bit = {}\n",
    "m = len(bit_data)\n",
    "for i in tqdm(range(50, n)):\n",
    "    #while(bit_data_ss[j] < gold_data_ss[i]):\n",
    "    #    j += 1\n",
    "    data = bit_data[i-50:i+1].copy()\n",
    "    train_a_data(data.copy(), money='Value', date='Date', save_name='bit', DAYS_BEFORE=DAYS_BEFORE, TRAIN_END=TRAIN_END, show=False, gong=False)\n",
    "    pred, mse_loss_one = get_a_test(data.copy(), money='Value', date='Date', save_name='bit', DAYS_BEFORE=DAYS_BEFORE, TRAIN_END=TRAIN_END, pred_len=15, show=False)\n",
    "    #tag, pred0 = fade(pred[0], gold_data['USD (PM)'][i])\n",
    "    #pred[0]=pred0\n",
    "    tag = 'real'\n",
    "    #print(pred, bit_data['Value'][i], tag, mse_loss_one)\n",
    "    if tag == 'fade':\n",
    "        mse_loss_one = 0\n",
    "    ms_loss += mse_loss_one\n",
    "    tot += 1\n",
    "    out_bit[i] = {'pred': pred, 'tag': tag}\n",
    "    if i % 10 == 0:\n",
    "        #print(out_bit)\n",
    "        print(ms_loss / tot)\n",
    "    #break\n",
    "\n",
    "with open('bit_lstm_pred_real.json', 'w') as f:\n",
    "    json.dump(out_bit, f)\n",
    "    "
   ]
  },
  {
   "cell_type": "code",
   "execution_count": null,
   "metadata": {},
   "outputs": [],
   "source": []
  }
 ],
 "metadata": {
  "interpreter": {
   "hash": "31f2aee4e71d21fbe5cf8b01ff0e069b9275f58929596ceb00d14d90e3e16cd6"
  },
  "kernelspec": {
   "display_name": "Python 3.8.10 64-bit",
   "language": "python",
   "name": "python3"
  },
  "language_info": {
   "codemirror_mode": {
    "name": "ipython",
    "version": 3
   },
   "file_extension": ".py",
   "mimetype": "text/x-python",
   "name": "python",
   "nbconvert_exporter": "python",
   "pygments_lexer": "ipython3",
   "version": "3.7.11"
  },
  "orig_nbformat": 4
 },
 "nbformat": 4,
 "nbformat_minor": 2
}
